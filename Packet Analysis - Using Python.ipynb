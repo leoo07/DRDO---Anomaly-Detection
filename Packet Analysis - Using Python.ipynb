{
 "cells": [
  {
   "cell_type": "code",
   "execution_count": 2,
   "id": "8132e8be",
   "metadata": {},
   "outputs": [],
   "source": [
    "#Using Pandas to read the csv file taken from wireshark\n",
    "import pandas as pd\n",
    "df = pd.read_csv(\"packets.csv\")"
   ]
  },
  {
   "cell_type": "code",
   "execution_count": 3,
   "id": "52a819ac",
   "metadata": {},
   "outputs": [
    {
     "data": {
      "text/html": [
       "<div>\n",
       "<style scoped>\n",
       "    .dataframe tbody tr th:only-of-type {\n",
       "        vertical-align: middle;\n",
       "    }\n",
       "\n",
       "    .dataframe tbody tr th {\n",
       "        vertical-align: top;\n",
       "    }\n",
       "\n",
       "    .dataframe thead th {\n",
       "        text-align: right;\n",
       "    }\n",
       "</style>\n",
       "<table border=\"1\" class=\"dataframe\">\n",
       "  <thead>\n",
       "    <tr style=\"text-align: right;\">\n",
       "      <th></th>\n",
       "      <th>No.</th>\n",
       "      <th>Time</th>\n",
       "      <th>Source</th>\n",
       "      <th>Destination</th>\n",
       "      <th>Protocol</th>\n",
       "      <th>Length</th>\n",
       "      <th>Info</th>\n",
       "    </tr>\n",
       "  </thead>\n",
       "  <tbody>\n",
       "    <tr>\n",
       "      <th>0</th>\n",
       "      <td>1</td>\n",
       "      <td>0.000000</td>\n",
       "      <td>192.168.1.6</td>\n",
       "      <td>142.250.82.20</td>\n",
       "      <td>UDP</td>\n",
       "      <td>164</td>\n",
       "      <td>56268  &gt;  19305 Len=122</td>\n",
       "    </tr>\n",
       "    <tr>\n",
       "      <th>1</th>\n",
       "      <td>2</td>\n",
       "      <td>0.000134</td>\n",
       "      <td>192.168.1.6</td>\n",
       "      <td>142.250.82.20</td>\n",
       "      <td>UDP</td>\n",
       "      <td>86</td>\n",
       "      <td>56268  &gt;  19305 Len=44</td>\n",
       "    </tr>\n",
       "    <tr>\n",
       "      <th>2</th>\n",
       "      <td>3</td>\n",
       "      <td>0.008693</td>\n",
       "      <td>192.168.1.6</td>\n",
       "      <td>142.250.82.20</td>\n",
       "      <td>UDP</td>\n",
       "      <td>162</td>\n",
       "      <td>56268  &gt;  19305 Len=120</td>\n",
       "    </tr>\n",
       "    <tr>\n",
       "      <th>3</th>\n",
       "      <td>4</td>\n",
       "      <td>0.028535</td>\n",
       "      <td>192.168.1.6</td>\n",
       "      <td>142.250.82.20</td>\n",
       "      <td>UDP</td>\n",
       "      <td>163</td>\n",
       "      <td>56268  &gt;  19305 Len=121</td>\n",
       "    </tr>\n",
       "    <tr>\n",
       "      <th>4</th>\n",
       "      <td>5</td>\n",
       "      <td>0.036888</td>\n",
       "      <td>142.250.82.20</td>\n",
       "      <td>192.168.1.6</td>\n",
       "      <td>RTCP</td>\n",
       "      <td>110</td>\n",
       "      <td>Application specific   subtype=13</td>\n",
       "    </tr>\n",
       "  </tbody>\n",
       "</table>\n",
       "</div>"
      ],
      "text/plain": [
       "   No.      Time         Source    Destination Protocol  Length  \\\n",
       "0    1  0.000000    192.168.1.6  142.250.82.20      UDP     164   \n",
       "1    2  0.000134    192.168.1.6  142.250.82.20      UDP      86   \n",
       "2    3  0.008693    192.168.1.6  142.250.82.20      UDP     162   \n",
       "3    4  0.028535    192.168.1.6  142.250.82.20      UDP     163   \n",
       "4    5  0.036888  142.250.82.20    192.168.1.6     RTCP     110   \n",
       "\n",
       "                                Info  \n",
       "0            56268  >  19305 Len=122  \n",
       "1             56268  >  19305 Len=44  \n",
       "2            56268  >  19305 Len=120  \n",
       "3            56268  >  19305 Len=121  \n",
       "4  Application specific   subtype=13  "
      ]
     },
     "execution_count": 3,
     "metadata": {},
     "output_type": "execute_result"
    }
   ],
   "source": [
    "df.head()"
   ]
  },
  {
   "cell_type": "code",
   "execution_count": 6,
   "id": "8aed7bf9",
   "metadata": {},
   "outputs": [
    {
     "data": {
      "text/plain": [
       "(115013, 7)"
      ]
     },
     "execution_count": 6,
     "metadata": {},
     "output_type": "execute_result"
    }
   ],
   "source": [
    "df.shape"
   ]
  },
  {
   "cell_type": "code",
   "execution_count": 19,
   "id": "b6c194e6",
   "metadata": {},
   "outputs": [],
   "source": [
    "# To block the packets sent by our computer as we want to analyze only incomming traffic\n",
    "pac = df[df.Source!='192.168.1.73']"
   ]
  },
  {
   "cell_type": "code",
   "execution_count": 21,
   "id": "84106da3",
   "metadata": {},
   "outputs": [
    {
     "data": {
      "text/plain": [
       "(115013, 7)"
      ]
     },
     "execution_count": 21,
     "metadata": {},
     "output_type": "execute_result"
    }
   ],
   "source": [
    "pac.shape"
   ]
  },
  {
   "cell_type": "code",
   "execution_count": 22,
   "id": "bcd5a4a9",
   "metadata": {},
   "outputs": [
    {
     "data": {
      "text/plain": [
       "Protocol\n",
       "ADwin Config                4\n",
       "AJP13                       1\n",
       "ARP                       169\n",
       "DNS                       204\n",
       "DTLSv1.2                  122\n",
       "HTTP                        3\n",
       "ICMP                       20\n",
       "ICMPv6                    166\n",
       "IEEE 802.15.4              15\n",
       "IGMPv3                    175\n",
       "MDNS                     1794\n",
       "NXP 802.15.4 SNIFFER       40\n",
       "OCSP                        1\n",
       "QUIC                     2463\n",
       "RTCP                    16095\n",
       "SSDP                      578\n",
       "STUN                      880\n",
       "TCP                     10960\n",
       "TLSv1.2                  1072\n",
       "TLSv1.3                   473\n",
       "UDP                     79711\n",
       "Name: Source, dtype: int64"
      ]
     },
     "execution_count": 22,
     "metadata": {},
     "output_type": "execute_result"
    }
   ],
   "source": [
    "#Using groupby method to group attributes according to protocols and count the different types of protocol\n",
    "pac = df.groupby('Protocol').Source.count()\n",
    "pac"
   ]
  },
  {
   "cell_type": "code",
   "execution_count": 23,
   "id": "37935b1a",
   "metadata": {},
   "outputs": [
    {
     "data": {
      "text/plain": [
       "Protocol\n",
       "AJP13                       1\n",
       "OCSP                        1\n",
       "HTTP                        3\n",
       "ADwin Config                4\n",
       "IEEE 802.15.4              15\n",
       "ICMP                       20\n",
       "NXP 802.15.4 SNIFFER       40\n",
       "DTLSv1.2                  122\n",
       "ICMPv6                    166\n",
       "ARP                       169\n",
       "IGMPv3                    175\n",
       "DNS                       204\n",
       "TLSv1.3                   473\n",
       "SSDP                      578\n",
       "STUN                      880\n",
       "TLSv1.2                  1072\n",
       "MDNS                     1794\n",
       "QUIC                     2463\n",
       "TCP                     10960\n",
       "RTCP                    16095\n",
       "UDP                     79711\n",
       "Name: Source, dtype: int64"
      ]
     },
     "execution_count": 23,
     "metadata": {},
     "output_type": "execute_result"
    }
   ],
   "source": [
    "#Sorting the counted Protocols on ascending order\n",
    "pac.sort_values()"
   ]
  },
  {
   "cell_type": "code",
   "execution_count": 28,
   "id": "d0453e2f",
   "metadata": {},
   "outputs": [
    {
     "data": {
      "text/plain": [
       "Index(['No.', 'Time', 'Source', 'Destination', 'Protocol', 'Length', 'Info'], dtype='object')"
      ]
     },
     "execution_count": 28,
     "metadata": {},
     "output_type": "execute_result"
    }
   ],
   "source": [
    "#To see the columns present in out dataframe\n",
    "df.columns"
   ]
  },
  {
   "cell_type": "code",
   "execution_count": 31,
   "id": "c6e61197",
   "metadata": {},
   "outputs": [
    {
     "data": {
      "text/html": [
       "<div>\n",
       "<style scoped>\n",
       "    .dataframe tbody tr th:only-of-type {\n",
       "        vertical-align: middle;\n",
       "    }\n",
       "\n",
       "    .dataframe tbody tr th {\n",
       "        vertical-align: top;\n",
       "    }\n",
       "\n",
       "    .dataframe thead th {\n",
       "        text-align: right;\n",
       "    }\n",
       "</style>\n",
       "<table border=\"1\" class=\"dataframe\">\n",
       "  <thead>\n",
       "    <tr style=\"text-align: right;\">\n",
       "      <th></th>\n",
       "      <th>No.</th>\n",
       "      <th>Time</th>\n",
       "      <th>Source</th>\n",
       "      <th>Destination</th>\n",
       "      <th>Protocol</th>\n",
       "      <th>Length</th>\n",
       "      <th>Info</th>\n",
       "    </tr>\n",
       "  </thead>\n",
       "  <tbody>\n",
       "    <tr>\n",
       "      <th>0</th>\n",
       "      <td>1</td>\n",
       "      <td>0.000000</td>\n",
       "      <td>192.168.1.6</td>\n",
       "      <td>142.250.82.20</td>\n",
       "      <td>UDP</td>\n",
       "      <td>164</td>\n",
       "      <td>56268  &gt;  19305 Len=122</td>\n",
       "    </tr>\n",
       "    <tr>\n",
       "      <th>1</th>\n",
       "      <td>2</td>\n",
       "      <td>0.000134</td>\n",
       "      <td>192.168.1.6</td>\n",
       "      <td>142.250.82.20</td>\n",
       "      <td>UDP</td>\n",
       "      <td>86</td>\n",
       "      <td>56268  &gt;  19305 Len=44</td>\n",
       "    </tr>\n",
       "    <tr>\n",
       "      <th>2</th>\n",
       "      <td>3</td>\n",
       "      <td>0.008693</td>\n",
       "      <td>192.168.1.6</td>\n",
       "      <td>142.250.82.20</td>\n",
       "      <td>UDP</td>\n",
       "      <td>162</td>\n",
       "      <td>56268  &gt;  19305 Len=120</td>\n",
       "    </tr>\n",
       "    <tr>\n",
       "      <th>3</th>\n",
       "      <td>4</td>\n",
       "      <td>0.028535</td>\n",
       "      <td>192.168.1.6</td>\n",
       "      <td>142.250.82.20</td>\n",
       "      <td>UDP</td>\n",
       "      <td>163</td>\n",
       "      <td>56268  &gt;  19305 Len=121</td>\n",
       "    </tr>\n",
       "    <tr>\n",
       "      <th>4</th>\n",
       "      <td>5</td>\n",
       "      <td>0.036888</td>\n",
       "      <td>142.250.82.20</td>\n",
       "      <td>192.168.1.6</td>\n",
       "      <td>RTCP</td>\n",
       "      <td>110</td>\n",
       "      <td>Application specific   subtype=13</td>\n",
       "    </tr>\n",
       "  </tbody>\n",
       "</table>\n",
       "</div>"
      ],
      "text/plain": [
       "   No.      Time         Source    Destination Protocol  Length  \\\n",
       "0    1  0.000000    192.168.1.6  142.250.82.20      UDP     164   \n",
       "1    2  0.000134    192.168.1.6  142.250.82.20      UDP      86   \n",
       "2    3  0.008693    192.168.1.6  142.250.82.20      UDP     162   \n",
       "3    4  0.028535    192.168.1.6  142.250.82.20      UDP     163   \n",
       "4    5  0.036888  142.250.82.20    192.168.1.6     RTCP     110   \n",
       "\n",
       "                                Info  \n",
       "0            56268  >  19305 Len=122  \n",
       "1             56268  >  19305 Len=44  \n",
       "2            56268  >  19305 Len=120  \n",
       "3            56268  >  19305 Len=121  \n",
       "4  Application specific   subtype=13  "
      ]
     },
     "execution_count": 31,
     "metadata": {},
     "output_type": "execute_result"
    }
   ],
   "source": [
    "#Gives first five tuples of the dataframe\n",
    "df.head()"
   ]
  },
  {
   "cell_type": "code",
   "execution_count": 32,
   "id": "4f61ab12",
   "metadata": {},
   "outputs": [
    {
     "data": {
      "text/html": [
       "<div>\n",
       "<style scoped>\n",
       "    .dataframe tbody tr th:only-of-type {\n",
       "        vertical-align: middle;\n",
       "    }\n",
       "\n",
       "    .dataframe tbody tr th {\n",
       "        vertical-align: top;\n",
       "    }\n",
       "\n",
       "    .dataframe thead th {\n",
       "        text-align: right;\n",
       "    }\n",
       "</style>\n",
       "<table border=\"1\" class=\"dataframe\">\n",
       "  <thead>\n",
       "    <tr style=\"text-align: right;\">\n",
       "      <th></th>\n",
       "      <th>No.</th>\n",
       "      <th>Time</th>\n",
       "      <th>Source</th>\n",
       "      <th>Destination</th>\n",
       "      <th>Protocol</th>\n",
       "      <th>Length</th>\n",
       "      <th>Info</th>\n",
       "    </tr>\n",
       "  </thead>\n",
       "  <tbody>\n",
       "    <tr>\n",
       "      <th>613</th>\n",
       "      <td>614</td>\n",
       "      <td>4.205302</td>\n",
       "      <td>192.168.1.6</td>\n",
       "      <td>192.168.1.5</td>\n",
       "      <td>TCP</td>\n",
       "      <td>164</td>\n",
       "      <td>64145  &gt;  8009 [PSH, ACK] Seq=1 Ack=1 Win=508 ...</td>\n",
       "    </tr>\n",
       "    <tr>\n",
       "      <th>615</th>\n",
       "      <td>616</td>\n",
       "      <td>4.209866</td>\n",
       "      <td>192.168.1.5</td>\n",
       "      <td>192.168.1.6</td>\n",
       "      <td>TCP</td>\n",
       "      <td>164</td>\n",
       "      <td>8009  &gt;  64145 [PSH, ACK] Seq=1 Ack=111 Win=14...</td>\n",
       "    </tr>\n",
       "    <tr>\n",
       "      <th>624</th>\n",
       "      <td>625</td>\n",
       "      <td>4.258107</td>\n",
       "      <td>192.168.1.6</td>\n",
       "      <td>192.168.1.5</td>\n",
       "      <td>TCP</td>\n",
       "      <td>54</td>\n",
       "      <td>64145  &gt;  8009 [ACK] Seq=111 Ack=111 Win=508 L...</td>\n",
       "    </tr>\n",
       "    <tr>\n",
       "      <th>970</th>\n",
       "      <td>971</td>\n",
       "      <td>7.786027</td>\n",
       "      <td>192.168.1.6</td>\n",
       "      <td>172.67.75.39</td>\n",
       "      <td>TCP</td>\n",
       "      <td>55</td>\n",
       "      <td>57075  &gt;  443 [ACK] Seq=1 Ack=1 Win=513 Len=1 ...</td>\n",
       "    </tr>\n",
       "    <tr>\n",
       "      <th>971</th>\n",
       "      <td>972</td>\n",
       "      <td>7.788321</td>\n",
       "      <td>172.67.75.39</td>\n",
       "      <td>192.168.1.6</td>\n",
       "      <td>TCP</td>\n",
       "      <td>66</td>\n",
       "      <td>443  &gt;  57075 [ACK] Seq=1 Ack=2 Win=64 Len=0 S...</td>\n",
       "    </tr>\n",
       "  </tbody>\n",
       "</table>\n",
       "</div>"
      ],
      "text/plain": [
       "     No.      Time        Source   Destination Protocol  Length  \\\n",
       "613  614  4.205302   192.168.1.6   192.168.1.5      TCP     164   \n",
       "615  616  4.209866   192.168.1.5   192.168.1.6      TCP     164   \n",
       "624  625  4.258107   192.168.1.6   192.168.1.5      TCP      54   \n",
       "970  971  7.786027   192.168.1.6  172.67.75.39      TCP      55   \n",
       "971  972  7.788321  172.67.75.39   192.168.1.6      TCP      66   \n",
       "\n",
       "                                                  Info  \n",
       "613  64145  >  8009 [PSH, ACK] Seq=1 Ack=1 Win=508 ...  \n",
       "615  8009  >  64145 [PSH, ACK] Seq=1 Ack=111 Win=14...  \n",
       "624  64145  >  8009 [ACK] Seq=111 Ack=111 Win=508 L...  \n",
       "970  57075  >  443 [ACK] Seq=1 Ack=1 Win=513 Len=1 ...  \n",
       "971  443  >  57075 [ACK] Seq=1 Ack=2 Win=64 Len=0 S...  "
      ]
     },
     "execution_count": 32,
     "metadata": {},
     "output_type": "execute_result"
    }
   ],
   "source": [
    "#Filtering the TCP Protocols from the dataset and to display first five tuples using head()\n",
    "df[df['Protocol']=='TCP'].head()"
   ]
  },
  {
   "cell_type": "code",
   "execution_count": 33,
   "id": "572d9dcb",
   "metadata": {},
   "outputs": [
    {
     "data": {
      "text/plain": [
       "<AxesSubplot:>"
      ]
     },
     "execution_count": 33,
     "metadata": {},
     "output_type": "execute_result"
    },
    {
     "data": {
      "image/png": "[encoded data removed]",
      "text/plain": [
       "<Figure size 432x288 with 1 Axes>"
      ]
     },
     "metadata": {
      "needs_background": "light"
     },
     "output_type": "display_data"
    }
   ],
   "source": [
    "#Using matplotlib to plot the histogram and visually see how the TCP Protocol has been spread(range of TCP Protocol)\n",
    "%matplotlib inline\n",
    "df[df['Protocol']=='TCP'].Length.hist(bins=15)"
   ]
  },
  {
   "cell_type": "code",
   "execution_count": 34,
   "id": "3da8879a",
   "metadata": {},
   "outputs": [
    {
     "data": {
      "text/plain": [
       "<AxesSubplot:>"
      ]
     },
     "execution_count": 34,
     "metadata": {},
     "output_type": "execute_result"
    },
    {
     "data": {
      "image/png": "[encoded data removed]",
      "text/plain": [
       "<Figure size 432x288 with 1 Axes>"
      ]
     },
     "metadata": {
      "needs_background": "light"
     },
     "output_type": "display_data"
    }
   ],
   "source": [
    "df[df['Protocol']=='UDP'].Length.hist(bins=15)"
   ]
  },
  {
   "cell_type": "code",
   "execution_count": 35,
   "id": "72263467",
   "metadata": {},
   "outputs": [
    {
     "data": {
      "text/plain": [
       "<AxesSubplot:xlabel='Protocol'>"
      ]
     },
     "execution_count": 35,
     "metadata": {},
     "output_type": "execute_result"
    },
    {
     "data": {
      "image/png": "[encoded data removed]",
      "text/plain": [
       "<Figure size 432x288 with 1 Axes>"
      ]
     },
     "metadata": {
      "needs_background": "light"
     },
     "output_type": "display_data"
    }
   ],
   "source": [
    "#Visualizing using Bar Chart\n",
    "disp = df.groupby('Protocol').Length.sum()\n",
    "a = disp/(1024*1024)\n",
    "a.plot(kind='bar')"
   ]
  },
  {
   "cell_type": "code",
   "execution_count": 37,
   "id": "edd1bb32",
   "metadata": {},
   "outputs": [
    {
     "data": {
      "text/plain": [
       "<AxesSubplot:xlabel='Protocol'>"
      ]
     },
     "execution_count": 37,
     "metadata": {},
     "output_type": "execute_result"
    },
    {
     "data": {
      "image/png": "[encoded data removed]",
      "text/plain": [
       "<Figure size 432x288 with 1 Axes>"
      ]
     },
     "metadata": {
      "needs_background": "light"
     },
     "output_type": "display_data"
    }
   ],
   "source": [
    "pac_count = df.groupby('Protocol').Source.count()\n",
    "pac_count.plot(kind='bar')"
   ]
  },
  {
   "cell_type": "code",
   "execution_count": 38,
   "id": "1976f5f6",
   "metadata": {},
   "outputs": [
    {
     "data": {
      "text/plain": [
       "<AxesSubplot:xlabel='Protocol'>"
      ]
     },
     "execution_count": 38,
     "metadata": {},
     "output_type": "execute_result"
    },
    {
     "data": {
      "image/png": "[encoded data removed]",
      "text/plain": [
       "<Figure size 432x288 with 1 Axes>"
      ]
     },
     "metadata": {
      "needs_background": "light"
     },
     "output_type": "display_data"
    }
   ],
   "source": [
    "#To find the average packet size by packet count\n",
    "av = disp/pac_count\n",
    "av.plot(kind='bar')"
   ]
  },
  {
   "cell_type": "code",
   "execution_count": null,
   "id": "de678ce6",
   "metadata": {},
   "outputs": [],
   "source": []
  }
 ],
 "metadata": {
  "kernelspec": {
   "display_name": "Python 3 (ipykernel)",
   "language": "python",
   "name": "python3"
  },
  "language_info": {
   "codemirror_mode": {
    "name": "ipython",
    "version": 3
   },
   "file_extension": ".py",
   "mimetype": "text/x-python",
   "name": "python",
   "nbconvert_exporter": "python",
   "pygments_lexer": "ipython3",
   "version": "3.9.7"
  }
 },
 "nbformat": 4,
 "nbformat_minor": 5
}
